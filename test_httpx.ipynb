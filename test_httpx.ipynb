{
 "cells": [
  {
   "cell_type": "code",
   "execution_count": 1,
   "id": "3ef0a773-50ce-4fcf-be9b-45a94954709e",
   "metadata": {},
   "outputs": [],
   "source": [
    "import httpx\n",
    "import urllib.parse\n",
    "from datetime import date\n",
    "import pandas as pd\n",
    "from functools import reduce\n",
    "from scipy.stats import nbinom"
   ]
  },
  {
   "cell_type": "code",
   "execution_count": 2,
   "id": "cdb126ff-e3d0-4cda-84d4-9752ca4ca37d",
   "metadata": {},
   "outputs": [],
   "source": [
    "WEATHER_API_KEY=\"96F785YBQ6H9WSZF4CAMDWZWM\"\n",
    "WEATHER_API_URL=\"https://weather.visualcrossing.com/VisualCrossingWebServices/rest/services/timeline/\"\n",
    "# PLACE=\"San Antionio, TX\"\n",
    "PLACE=\"Lansing, MI\""
   ]
  },
  {
   "cell_type": "code",
   "execution_count": 14,
   "id": "767b69f6-ab95-4475-b91e-6eb3a34ad6c1",
   "metadata": {},
   "outputs": [],
   "source": [
    "def get_cities():\n",
    "    df = pd.read_csv('data/capitals.csv')\n",
    "    df['city_state'] = df.apply(lambda row: row[\"Capital\"] + \", \" + row[\"Abbreviation\"], axis=1)\n",
    "    return df['city_state'].tolist()\n",
    "\n",
    "def get_dates():\n",
    "    return [date(year,12,25) for year in range(2000,2024)]\n",
    "    \n",
    "def get_history(query_city):\n",
    "    \n",
    "    def build_query(query_city, query_date):\n",
    "        return f\"{WEATHER_API_URL}{urllib.parse.quote(query_city)}/{str(query_date)}/{str(query_date)}?unitGroup=metric&include=days&key={WEATHER_API_KEY}&contentType=json\"\n",
    "    \n",
    "    def get_json(query_city, query_date):\n",
    "        query = build_query(query_city, query_date)\n",
    "        r = httpx.get(query)\n",
    "        return r.json()\n",
    "        \n",
    "    dates = get_dates()\n",
    "    history = []\n",
    "    for date in dates:\n",
    "        history.append(get_json(query_city, date))\n",
    "    return history\n",
    "\n",
    "def get_snow_from_json(history):\n",
    "    snow_amount = history['days'][0]['snow']\n",
    "    if snow_amount:\n",
    "        return snow_amount\n",
    "    else:\n",
    "        return 0.0\n",
    "\n",
    "def get_most_recent_white_christmas(history):\n",
    "    def _last(year, date_snow_tuple):\n",
    "        new_year = date_snow_tuple[0].year\n",
    "        is_snow = date_snow_tuple[1]\n",
    "        if is_snow:\n",
    "            return new_year\n",
    "        else:\n",
    "            return year\n",
    "    dates = get_dates()\n",
    "    snow_amount = map(get_snow_from_json, history)\n",
    "    snow_bool = map(lambda x: x > 0, snow_amount)\n",
    "    combined = zip(dates, snow_bool)\n",
    "    return reduce(_last,combined, None)\n",
    "    \n",
    "def predict_next_white_christmas(history):\n",
    "    dates = get_dates()\n",
    "    snow_amount = map(get_snow_from_json, history)\n",
    "    snow_bool = list(map(lambda x: x > 0, snow_amount))\n",
    "    probability = sum(snow_bool)/len(snow_bool)\n",
    "    if probability > 0:\n",
    "        ppf = nbinom.ppf(q=0.95,n=1,p=probability) # 95% confidence to the next snow (n=1) given probability of snow (history)\n",
    "        return int(ppf) # number of years to wait\n",
    "    else:\n",
    "        return None\n",
    "\n",
    "def rest_endpoint(PLACE):\n",
    "    history = get_history(PLACE)\n",
    "    last_snow = get_most_recent_white_christmas(history)\n",
    "    if last_snow:\n",
    "        next_snow = date.today().year + predict_next_white_christmas(history)\n",
    "        return f\"The last White Christmas in {PLACE} was in {last_snow}. Based on data since 2000, there will likely (with 95% confidence) be another White Christmas in {PLACE} before {next_snow}.\"\n",
    "    else:\n",
    "        return f\"There has not been a White Christmas in {PLACE} since 2000. Don't hold your breath for the next one.\""
   ]
  },
  {
   "cell_type": "code",
   "execution_count": 16,
   "id": "397ac7b6-896d-46ae-931d-93ab9f473138",
   "metadata": {},
   "outputs": [
    {
     "data": {
      "text/plain": [
       "'The last White Christmas in Southhold, NY was in 2002. Based on data since 2000, there will likely (with 95% confidence) be another White Christmas in Southhold, NY before 2094.'"
      ]
     },
     "execution_count": 16,
     "metadata": {},
     "output_type": "execute_result"
    }
   ],
   "source": [
    "rest_endpoint(\"Southhold, NY\")"
   ]
  }
 ],
 "metadata": {
  "kernelspec": {
   "display_name": "Python 3 (ipykernel)",
   "language": "python",
   "name": "python3"
  },
  "language_info": {
   "codemirror_mode": {
    "name": "ipython",
    "version": 3
   },
   "file_extension": ".py",
   "mimetype": "text/x-python",
   "name": "python",
   "nbconvert_exporter": "python",
   "pygments_lexer": "ipython3",
   "version": "3.11.3"
  }
 },
 "nbformat": 4,
 "nbformat_minor": 5
}
